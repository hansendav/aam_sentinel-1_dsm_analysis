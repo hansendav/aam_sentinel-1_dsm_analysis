{
 "cells": [
  {
   "cell_type": "markdown",
   "id": "d6343b3f-0b97-4c1b-bc5f-813e1dd085e8",
   "metadata": {
    "editable": true,
    "slideshow": {
     "slide_type": ""
    },
    "tags": []
   },
   "source": [
    "# In this notebook all steps from can be followed: "
   ]
  },
  {
   "cell_type": "code",
   "execution_count": 5,
   "id": "4cbc0b45-2331-4e7b-8d57-9fe0dfb656d3",
   "metadata": {},
   "outputs": [],
   "source": [
    "import numpy as np \n",
    "import rasterio \n",
    "import matplotlib.pyplot as plt "
   ]
  },
  {
   "cell_type": "code",
   "execution_count": null,
   "id": "5479d3a7-a9ec-4116-bf04-a5848ac565cc",
   "metadata": {},
   "outputs": [],
   "source": []
  },
  {
   "cell_type": "code",
   "execution_count": null,
   "id": "3c1ff5ad-2e36-4167-9674-5f938921c5f8",
   "metadata": {},
   "outputs": [],
   "source": []
  }
 ],
 "metadata": {
  "kernelspec": {
   "display_name": "Python 3 (ipykernel)",
   "language": "python",
   "name": "python3"
  },
  "language_info": {
   "codemirror_mode": {
    "name": "ipython",
    "version": 3
   },
   "file_extension": ".py",
   "mimetype": "text/x-python",
   "name": "python",
   "nbconvert_exporter": "python",
   "pygments_lexer": "ipython3",
   "version": "3.12.3"
  }
 },
 "nbformat": 4,
 "nbformat_minor": 5
}
